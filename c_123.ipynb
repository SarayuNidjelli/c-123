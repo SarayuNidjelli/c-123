{
  "nbformat": 4,
  "nbformat_minor": 0,
  "metadata": {
    "colab": {
      "provenance": [],
      "authorship_tag": "ABX9TyNch7IftPoFKmyTTI3RuK6k",
      "include_colab_link": true
    },
    "kernelspec": {
      "name": "python3",
      "display_name": "Python 3"
    },
    "language_info": {
      "name": "python"
    }
  },
  "cells": [
    {
      "cell_type": "markdown",
      "metadata": {
        "id": "view-in-github",
        "colab_type": "text"
      },
      "source": [
        "<a href=\"https://colab.research.google.com/github/SarayuNidjelli/c-123/blob/main/c_123.ipynb\" target=\"_parent\"><img src=\"https://colab.research.google.com/assets/colab-badge.svg\" alt=\"Open In Colab\"/></a>"
      ]
    },
    {
      "cell_type": "code",
      "execution_count": 1,
      "metadata": {
        "colab": {
          "base_uri": "https://localhost:8080/"
        },
        "id": "BflhhGU6qHYd",
        "outputId": "d0ec9dcc-90f8-47a8-b68b-70f79dad19ea"
      },
      "outputs": [
        {
          "output_type": "stream",
          "name": "stdout",
          "text": [
            "[list([-1, -1, -1, -1, 0, -1]) list([-1, -1, -1, 0, -1, 100])\n",
            " list([-1, -1, -1, 0, -1, -1]) list([-1, 0, 0, -1, -1, -1])\n",
            " list([0, -1, -1, -1, -1, 100]) list([-1, -1, -1, -1, 100])]\n"
          ]
        },
        {
          "output_type": "stream",
          "name": "stderr",
          "text": [
            "<ipython-input-1-66316b2c1982>:3: VisibleDeprecationWarning: Creating an ndarray from ragged nested sequences (which is a list-or-tuple of lists-or-tuples-or ndarrays with different lengths or shapes) is deprecated. If you meant to do this, you must specify 'dtype=object' when creating the ndarray.\n",
            "  rewards = np.array([\n"
          ]
        }
      ],
      "source": [
        "import numpy as np\n",
        "import random\n",
        "rewards = np.array([\n",
        "    [-1,-1,-1,-1,0,-1],\n",
        "    [-1,-1,-1,0,-1,100],\n",
        "    [-1,-1,-1,0,-1,-1],\n",
        "    [-1,0,0,-1,-1,-1],\n",
        "    [0,-1,-1,-1,-1,100],\n",
        "    [-1,-1,-1,-1,100]\n",
        "])\n",
        "print(rewards)"
      ]
    },
    {
      "cell_type": "code",
      "source": [
        "def set_inital_state():\n",
        "  return np.random.randint(0,6)\n",
        "\n",
        "set_inital_state()"
      ],
      "metadata": {
        "colab": {
          "base_uri": "https://localhost:8080/"
        },
        "id": "4HNf7nS3r2WZ",
        "outputId": "49bf9669-c1f6-48ce-b79f-2b3a30ee0617"
      },
      "execution_count": 4,
      "outputs": [
        {
          "output_type": "execute_result",
          "data": {
            "text/plain": [
              "5"
            ]
          },
          "metadata": {},
          "execution_count": 4
        }
      ]
    },
    {
      "cell_type": "code",
      "source": [
        "from numpy.lib.index_tricks import ndenumerate\n",
        "def get_action(current_state,reward_matrix):\n",
        "  available_action = []\n",
        "  print('reward_matrix','\\n',reward_matrix)\n",
        "  for action in enumerate(reward_matrix[current_state]):\n",
        "    if action [1]!= -1:\n",
        "      available_action.append(action[0])\n",
        "  choose_action = random.choice(available_action)\n",
        "  print('random choice of action from',available_action,'is',choose_action)\n",
        "  return choose_action\n",
        "\n",
        "current_state=4\n",
        "action=get_action(current_state,rewards)\n",
        "print(action)"
      ],
      "metadata": {
        "colab": {
          "base_uri": "https://localhost:8080/"
        },
        "id": "FtEBuI1ksgxI",
        "outputId": "948ccfaf-ad15-42df-f1d7-7cabe3efd4b5"
      },
      "execution_count": 6,
      "outputs": [
        {
          "output_type": "stream",
          "name": "stdout",
          "text": [
            "reward_matrix \n",
            " [list([-1, -1, -1, -1, 0, -1]) list([-1, -1, -1, 0, -1, 100])\n",
            " list([-1, -1, -1, 0, -1, -1]) list([-1, 0, 0, -1, -1, -1])\n",
            " list([0, -1, -1, -1, -1, 100]) list([-1, -1, -1, -1, 100])]\n",
            "random choice of action from [0, 5] is 0\n",
            "0\n"
          ]
        }
      ]
    }
  ]
}